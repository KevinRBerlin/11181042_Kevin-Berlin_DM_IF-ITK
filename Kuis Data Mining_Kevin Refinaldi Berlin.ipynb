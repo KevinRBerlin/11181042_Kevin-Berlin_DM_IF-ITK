{
  "nbformat": 4,
  "nbformat_minor": 0,
  "metadata": {
    "colab": {
      "name": "KuisDataMining.ipynb",
      "provenance": [],
      "collapsed_sections": [
        "CEOEaOmW1gBR",
        "QAny2DMe4Osn",
        "nrlRKHv0YhVK",
        "Qmsv4lWK2Nju",
        "8k5fVHQYXWnE",
        "zNuCMyQpr6C2"
      ]
    },
    "kernelspec": {
      "name": "python3",
      "display_name": "Python 3"
    },
    "language_info": {
      "name": "python"
    }
  },
  "cells": [
    {
      "cell_type": "markdown",
      "metadata": {
        "id": "CEOEaOmW1gBR"
      },
      "source": [
        "#Import Lib"
      ]
    },
    {
      "cell_type": "code",
      "metadata": {
        "id": "fEUwrYmUxXmm"
      },
      "source": [
        "from pandas import read_csv # membaca csv\n",
        "from sklearn.naive_bayes import GaussianNB # untuk membuat model Naive Bayes\n",
        "from sklearn.tree import DecisionTreeClassifier # untuk membuat model decision tree\n",
        "from sklearn.model_selection import train_test_split # split data latih dengan data test\n",
        "from sklearn import preprocessing\n",
        "from itertools import cycle"
      ],
      "execution_count": 1,
      "outputs": []
    },
    {
      "cell_type": "markdown",
      "metadata": {
        "id": "QAny2DMe4Osn"
      },
      "source": [
        "#Data Preparation\n"
      ]
    },
    {
      "cell_type": "markdown",
      "metadata": {
        "id": "EG5LKuCOjq6z"
      },
      "source": [
        "Load data"
      ]
    },
    {
      "cell_type": "code",
      "metadata": {
        "colab": {
          "base_uri": "https://localhost:8080/",
          "height": 204
        },
        "id": "72EvOSGL4ZkF",
        "outputId": "1a349e09-2aca-4ed4-c204-3ae12e607dbd"
      },
      "source": [
        "data = read_csv('sample_data/IRIS.csv')\n",
        "data.head()"
      ],
      "execution_count": 2,
      "outputs": [
        {
          "output_type": "execute_result",
          "data": {
            "text/html": [
              "<div>\n",
              "<style scoped>\n",
              "    .dataframe tbody tr th:only-of-type {\n",
              "        vertical-align: middle;\n",
              "    }\n",
              "\n",
              "    .dataframe tbody tr th {\n",
              "        vertical-align: top;\n",
              "    }\n",
              "\n",
              "    .dataframe thead th {\n",
              "        text-align: right;\n",
              "    }\n",
              "</style>\n",
              "<table border=\"1\" class=\"dataframe\">\n",
              "  <thead>\n",
              "    <tr style=\"text-align: right;\">\n",
              "      <th></th>\n",
              "      <th>sepal_length</th>\n",
              "      <th>sepal_width</th>\n",
              "      <th>petal_length</th>\n",
              "      <th>petal_width</th>\n",
              "      <th>species</th>\n",
              "    </tr>\n",
              "  </thead>\n",
              "  <tbody>\n",
              "    <tr>\n",
              "      <th>0</th>\n",
              "      <td>5.1</td>\n",
              "      <td>3.5</td>\n",
              "      <td>1.4</td>\n",
              "      <td>0.2</td>\n",
              "      <td>Iris-setosa</td>\n",
              "    </tr>\n",
              "    <tr>\n",
              "      <th>1</th>\n",
              "      <td>4.9</td>\n",
              "      <td>3.0</td>\n",
              "      <td>1.4</td>\n",
              "      <td>0.2</td>\n",
              "      <td>Iris-setosa</td>\n",
              "    </tr>\n",
              "    <tr>\n",
              "      <th>2</th>\n",
              "      <td>4.7</td>\n",
              "      <td>3.2</td>\n",
              "      <td>1.3</td>\n",
              "      <td>0.2</td>\n",
              "      <td>Iris-setosa</td>\n",
              "    </tr>\n",
              "    <tr>\n",
              "      <th>3</th>\n",
              "      <td>4.6</td>\n",
              "      <td>3.1</td>\n",
              "      <td>1.5</td>\n",
              "      <td>0.2</td>\n",
              "      <td>Iris-setosa</td>\n",
              "    </tr>\n",
              "    <tr>\n",
              "      <th>4</th>\n",
              "      <td>5.0</td>\n",
              "      <td>3.6</td>\n",
              "      <td>1.4</td>\n",
              "      <td>0.2</td>\n",
              "      <td>Iris-setosa</td>\n",
              "    </tr>\n",
              "  </tbody>\n",
              "</table>\n",
              "</div>"
            ],
            "text/plain": [
              "   sepal_length  sepal_width  petal_length  petal_width      species\n",
              "0           5.1          3.5           1.4          0.2  Iris-setosa\n",
              "1           4.9          3.0           1.4          0.2  Iris-setosa\n",
              "2           4.7          3.2           1.3          0.2  Iris-setosa\n",
              "3           4.6          3.1           1.5          0.2  Iris-setosa\n",
              "4           5.0          3.6           1.4          0.2  Iris-setosa"
            ]
          },
          "metadata": {},
          "execution_count": 2
        }
      ]
    },
    {
      "cell_type": "markdown",
      "metadata": {
        "id": "dPbEUm6sjtDz"
      },
      "source": [
        "Label encoding"
      ]
    },
    {
      "cell_type": "code",
      "metadata": {
        "colab": {
          "base_uri": "https://localhost:8080/",
          "height": 0
        },
        "id": "h2fIU_TgjmJU",
        "outputId": "88c29659-27eb-49dd-ff0a-de8c9b6de348"
      },
      "source": [
        "# label encoding digunakan ketika attribute target prediksi bersifat kategorial\n",
        "label_encoder = preprocessing.LabelEncoder()\n",
        " \n",
        "# Encoding label pada kolom 'species'.\n",
        "data['species']= label_encoder.fit_transform(data['species'])\n",
        "# menjadi: iris-setosa = 0, iris-versicolor = 1, iris-virginica = 2\n",
        "data.sample(8)"
      ],
      "execution_count": 3,
      "outputs": [
        {
          "output_type": "execute_result",
          "data": {
            "text/html": [
              "<div>\n",
              "<style scoped>\n",
              "    .dataframe tbody tr th:only-of-type {\n",
              "        vertical-align: middle;\n",
              "    }\n",
              "\n",
              "    .dataframe tbody tr th {\n",
              "        vertical-align: top;\n",
              "    }\n",
              "\n",
              "    .dataframe thead th {\n",
              "        text-align: right;\n",
              "    }\n",
              "</style>\n",
              "<table border=\"1\" class=\"dataframe\">\n",
              "  <thead>\n",
              "    <tr style=\"text-align: right;\">\n",
              "      <th></th>\n",
              "      <th>sepal_length</th>\n",
              "      <th>sepal_width</th>\n",
              "      <th>petal_length</th>\n",
              "      <th>petal_width</th>\n",
              "      <th>species</th>\n",
              "    </tr>\n",
              "  </thead>\n",
              "  <tbody>\n",
              "    <tr>\n",
              "      <th>66</th>\n",
              "      <td>5.6</td>\n",
              "      <td>3.0</td>\n",
              "      <td>4.5</td>\n",
              "      <td>1.5</td>\n",
              "      <td>1</td>\n",
              "    </tr>\n",
              "    <tr>\n",
              "      <th>143</th>\n",
              "      <td>6.8</td>\n",
              "      <td>3.2</td>\n",
              "      <td>5.9</td>\n",
              "      <td>2.3</td>\n",
              "      <td>2</td>\n",
              "    </tr>\n",
              "    <tr>\n",
              "      <th>48</th>\n",
              "      <td>5.3</td>\n",
              "      <td>3.7</td>\n",
              "      <td>1.5</td>\n",
              "      <td>0.2</td>\n",
              "      <td>0</td>\n",
              "    </tr>\n",
              "    <tr>\n",
              "      <th>108</th>\n",
              "      <td>6.7</td>\n",
              "      <td>2.5</td>\n",
              "      <td>5.8</td>\n",
              "      <td>1.8</td>\n",
              "      <td>2</td>\n",
              "    </tr>\n",
              "    <tr>\n",
              "      <th>90</th>\n",
              "      <td>5.5</td>\n",
              "      <td>2.6</td>\n",
              "      <td>4.4</td>\n",
              "      <td>1.2</td>\n",
              "      <td>1</td>\n",
              "    </tr>\n",
              "    <tr>\n",
              "      <th>22</th>\n",
              "      <td>4.6</td>\n",
              "      <td>3.6</td>\n",
              "      <td>1.0</td>\n",
              "      <td>0.2</td>\n",
              "      <td>0</td>\n",
              "    </tr>\n",
              "    <tr>\n",
              "      <th>67</th>\n",
              "      <td>5.8</td>\n",
              "      <td>2.7</td>\n",
              "      <td>4.1</td>\n",
              "      <td>1.0</td>\n",
              "      <td>1</td>\n",
              "    </tr>\n",
              "    <tr>\n",
              "      <th>0</th>\n",
              "      <td>5.1</td>\n",
              "      <td>3.5</td>\n",
              "      <td>1.4</td>\n",
              "      <td>0.2</td>\n",
              "      <td>0</td>\n",
              "    </tr>\n",
              "  </tbody>\n",
              "</table>\n",
              "</div>"
            ],
            "text/plain": [
              "     sepal_length  sepal_width  petal_length  petal_width  species\n",
              "66            5.6          3.0           4.5          1.5        1\n",
              "143           6.8          3.2           5.9          2.3        2\n",
              "48            5.3          3.7           1.5          0.2        0\n",
              "108           6.7          2.5           5.8          1.8        2\n",
              "90            5.5          2.6           4.4          1.2        1\n",
              "22            4.6          3.6           1.0          0.2        0\n",
              "67            5.8          2.7           4.1          1.0        1\n",
              "0             5.1          3.5           1.4          0.2        0"
            ]
          },
          "metadata": {},
          "execution_count": 3
        }
      ]
    },
    {
      "cell_type": "markdown",
      "metadata": {
        "id": "nrlRKHv0YhVK"
      },
      "source": [
        "#Main"
      ]
    },
    {
      "cell_type": "markdown",
      "metadata": {
        "id": "4_vvm-VHl0-V"
      },
      "source": [
        "Fungsi untuk melatih dan menguji model menggunakan data"
      ]
    },
    {
      "cell_type": "code",
      "metadata": {
        "id": "GGQUIrpG3CFP"
      },
      "source": [
        "def main(data, model):\n",
        "    #memisahkan target dan pendukung (x dan y)\n",
        "    cykolom = cycle(data.columns.to_list())\n",
        "    x = data[list(next(cykolom) for _ in range(4))] # pendukung\n",
        "    y = data.species # Target \n",
        "    model = eval(x, y, model)\n",
        "\n",
        "    print(\"user input:\")\n",
        "    input_data = [5.9, 3.1, 5.1, 1.9]\n",
        "    for i in range(4): print(f'{data.columns.to_list()[i]}\\t: {input_data[i]}')\n",
        "    print(f'species\\t\\t: {prediksi(input_data, model)}')"
      ],
      "execution_count": 4,
      "outputs": []
    },
    {
      "cell_type": "markdown",
      "metadata": {
        "id": "wq0U4q8EmweR"
      },
      "source": [
        "Fungsi untuk menghitung akurasi model"
      ]
    },
    {
      "cell_type": "code",
      "metadata": {
        "id": "rF3s3ISe22QU"
      },
      "source": [
        "sama = lambda x, y, i: x[i] == y[i]\n",
        "def akurasi(asli, prediksi):\n",
        "\tbenar = 0\n",
        "\tfor i in range(len(asli)):\n",
        "\t\tif sama(asli, prediksi, i): benar += 1\n",
        "\tyield benar / float(len(asli)) * 100"
      ],
      "execution_count": 5,
      "outputs": []
    },
    {
      "cell_type": "markdown",
      "metadata": {
        "id": "L31NMEn8og6o"
      },
      "source": [
        "Mengembalikan nilai yang diprediksi"
      ]
    },
    {
      "cell_type": "code",
      "metadata": {
        "id": "AWv2WcUV3LSd"
      },
      "source": [
        "def prediksi(data, tree):\n",
        "    if tree.predict([data]) == 0: return 'Iris-setosa'\n",
        "    elif tree.predict([data]) == 1: return 'Iris-versicolor'\n",
        "    else : return 'Iris-virginica' "
      ],
      "execution_count": 6,
      "outputs": []
    },
    {
      "cell_type": "code",
      "metadata": {
        "id": "8GRQfTKwxTPG"
      },
      "source": [
        "def eval(x, y, model):\n",
        "    # 70% data untuk pelatihan, 30% untuk tes, dan random state = 1\n",
        "    x_latih, x_tes, y_latih, y_tes =  train_test_split(x, y, test_size=0.3, random_state=1) \n",
        "    \n",
        "    # melatih model\n",
        "    model = model.fit(x_latih,y_latih)\n",
        "    \n",
        "    #prediksi untuk melihat akurasi\n",
        "    y_pred = model.predict(x_tes)\n",
        "\n",
        "    # menampilkan akurasi\n",
        "    acc = akurasi(list(y_tes), list(y_pred))\n",
        "    print(\"akurasi: %.2f%%\\n\" % (next(acc)))\n",
        "    return model"
      ],
      "execution_count": 7,
      "outputs": []
    },
    {
      "cell_type": "markdown",
      "metadata": {
        "id": "Qmsv4lWK2Nju"
      },
      "source": [
        "#Decision Tree"
      ]
    },
    {
      "cell_type": "code",
      "metadata": {
        "colab": {
          "base_uri": "https://localhost:8080/"
        },
        "id": "LJviS-E63S2d",
        "outputId": "64c0c37c-9925-4e02-e4bc-a2c06ff6ebd2"
      },
      "source": [
        "main(data, DecisionTreeClassifier(criterion=\"gini\", max_depth=3))"
      ],
      "execution_count": 8,
      "outputs": [
        {
          "output_type": "stream",
          "name": "stdout",
          "text": [
            "akurasi: 95.56%\n",
            "\n",
            "user input:\n",
            "sepal_length\t: 5.9\n",
            "sepal_width\t: 3.1\n",
            "petal_length\t: 5.1\n",
            "petal_width\t: 1.9\n",
            "species\t\t: Iris-virginica\n"
          ]
        }
      ]
    },
    {
      "cell_type": "markdown",
      "metadata": {
        "id": "d-wbWHwgpPk9"
      },
      "source": [
        "untuk model Decision Tree didapatkan akurasi 95.56% dengan max depth 3. kelebihan dari DT adalah dapat menguji data numerik dan kategorial, namun kelemahan DT saat menjadi tree yang kompleks, variasi data yang kecil dapat menyebabkan hasil data yang berbeda "
      ]
    },
    {
      "cell_type": "markdown",
      "metadata": {
        "id": "8k5fVHQYXWnE"
      },
      "source": [
        "#Naïve Bayes Classifier "
      ]
    },
    {
      "cell_type": "code",
      "metadata": {
        "colab": {
          "base_uri": "https://localhost:8080/"
        },
        "id": "SDh4Ak8medAM",
        "outputId": "54872c43-9355-488c-de3a-f5c9a44d2662"
      },
      "source": [
        "main(data, GaussianNB())"
      ],
      "execution_count": 9,
      "outputs": [
        {
          "output_type": "stream",
          "name": "stdout",
          "text": [
            "akurasi: 93.33%\n",
            "\n",
            "user input:\n",
            "sepal_length\t: 5.9\n",
            "sepal_width\t: 3.1\n",
            "petal_length\t: 5.1\n",
            "petal_width\t: 1.9\n",
            "species\t\t: Iris-virginica\n"
          ]
        }
      ]
    },
    {
      "cell_type": "markdown",
      "metadata": {
        "id": "akzEF8cvqqXo"
      },
      "source": [
        "pada model Naive bayes didapatkan akurasi 93.33%. Model NB memiliki kelebihan dalam pelatihan data yang memerlukan sedikit data latih serta unggul dalam hal kecepatan. NB hanya berdasarkan asumsi, independensi bergantung pada kelasnya, akurasinya berkurang"
      ]
    },
    {
      "cell_type": "markdown",
      "metadata": {
        "id": "zNuCMyQpr6C2"
      },
      "source": [
        "#Kesimpulan"
      ]
    },
    {
      "cell_type": "markdown",
      "metadata": {
        "id": "fhLPa_Cpr9-j"
      },
      "source": [
        "Pada perbandingan dua model di atas, dapat dipilih sesuai kelebihan dan kekurangan masing-masing. Jika ingin mementingkan akurasi dan visualisasi Kita dapat menggunakan Decision Tree. Kemudian jika lebih memerlukan kecepatan atau data yang dimiliki terbatas, menggunakan Naive Bayes adalah solusinya. "
      ]
    },
    {
      "cell_type": "markdown",
      "metadata": {
        "id": "KFxOZYUDs-yq"
      },
      "source": [
        "source: \n",
        "- https://discuss.analyticsvidhya.com/t/decision-tree-vs-naive-bayes-classifier/2520\n",
        "- https://analyticsindiamag.com/7-types-classification-algorithms/"
      ]
    }
  ]
}